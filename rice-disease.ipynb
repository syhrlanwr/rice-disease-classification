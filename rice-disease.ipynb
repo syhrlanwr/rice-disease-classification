{
 "cells": [
  {
   "cell_type": "code",
   "execution_count": 1,
   "id": "d747668a",
   "metadata": {
    "execution": {
     "iopub.execute_input": "2023-06-05T03:29:24.364256Z",
     "iopub.status.busy": "2023-06-05T03:29:24.363869Z",
     "iopub.status.idle": "2023-06-05T03:29:24.564824Z",
     "shell.execute_reply": "2023-06-05T03:29:24.563918Z"
    },
    "papermill": {
     "duration": 0.209881,
     "end_time": "2023-06-05T03:29:24.567045",
     "exception": false,
     "start_time": "2023-06-05T03:29:24.357164",
     "status": "completed"
    },
    "tags": []
   },
   "outputs": [],
   "source": [
    "import os\n",
    "import shutil\n",
    "import random\n",
    "from PIL import Image\n",
    "import cv2"
   ]
  },
  {
   "cell_type": "code",
   "execution_count": 2,
   "id": "c62b9464",
   "metadata": {
    "execution": {
     "iopub.execute_input": "2023-06-05T03:29:24.578672Z",
     "iopub.status.busy": "2023-06-05T03:29:24.577913Z",
     "iopub.status.idle": "2023-06-05T03:29:24.583221Z",
     "shell.execute_reply": "2023-06-05T03:29:24.582439Z"
    },
    "papermill": {
     "duration": 0.013022,
     "end_time": "2023-06-05T03:29:24.585232",
     "exception": false,
     "start_time": "2023-06-05T03:29:24.572210",
     "status": "completed"
    },
    "tags": []
   },
   "outputs": [],
   "source": [
    "source = '/kaggle/input/rice-leaf-images/rice_images'\n",
    "\n",
    "brownspot = os.path.join(source, '_BrownSpot')\n",
    "healthy = os.path.join(source, '_Healthy')\n",
    "hispa = os.path.join(source, '_Hispa')\n",
    "leafblast = os.path.join(source, '_LeafBlast')"
   ]
  },
  {
   "cell_type": "code",
   "execution_count": 3,
   "id": "6d40a0b2",
   "metadata": {
    "execution": {
     "iopub.execute_input": "2023-06-05T03:29:24.597343Z",
     "iopub.status.busy": "2023-06-05T03:29:24.595805Z",
     "iopub.status.idle": "2023-06-05T03:29:24.604684Z",
     "shell.execute_reply": "2023-06-05T03:29:24.603826Z"
    },
    "papermill": {
     "duration": 0.016728,
     "end_time": "2023-06-05T03:29:24.606727",
     "exception": false,
     "start_time": "2023-06-05T03:29:24.589999",
     "status": "completed"
    },
    "tags": []
   },
   "outputs": [],
   "source": [
    "train = '/kaggle/working/train'\n",
    "validation = '/kaggle/working/validation'\n",
    "\n",
    "brownspot_train = os.path.join(train, 'brownspot')\n",
    "healthy_train = os.path.join(train, 'healthy')\n",
    "hispa_train = os.path.join(train, 'hispa')\n",
    "leafblast_train = os.path.join(train, 'leafblast')\n",
    "\n",
    "brownspot_validation = os.path.join(validation, 'brownspot')\n",
    "healthy_validation = os.path.join(validation, 'healthy')\n",
    "hispa_validation = os.path.join(validation, 'hispa')\n",
    "leafblast_validation = os.path.join(validation, 'leafblast')\n",
    "\n",
    "if not os.path.exists(train):\n",
    "    os.mkdir(train)\n",
    "    os.mkdir(brownspot_train)\n",
    "    os.mkdir(healthy_train)\n",
    "    os.mkdir(hispa_train)\n",
    "    os.mkdir(leafblast_train)\n",
    "\n",
    "if not os.path.exists(validation):\n",
    "    os.mkdir(validation)\n",
    "    os.mkdir(brownspot_validation)\n",
    "    os.mkdir(healthy_validation)\n",
    "    os.mkdir(hispa_validation)\n",
    "    os.mkdir(leafblast_validation)"
   ]
  },
  {
   "cell_type": "code",
   "execution_count": 4,
   "id": "3736f1d2",
   "metadata": {
    "execution": {
     "iopub.execute_input": "2023-06-05T03:29:24.617219Z",
     "iopub.status.busy": "2023-06-05T03:29:24.616962Z",
     "iopub.status.idle": "2023-06-05T03:29:44.153781Z",
     "shell.execute_reply": "2023-06-05T03:29:44.152764Z"
    },
    "papermill": {
     "duration": 19.544585,
     "end_time": "2023-06-05T03:29:44.155804",
     "exception": false,
     "start_time": "2023-06-05T03:29:24.611219",
     "status": "completed"
    },
    "tags": []
   },
   "outputs": [
    {
     "name": "stdout",
     "output_type": "stream",
     "text": [
      "Training set of /kaggle/input/rice-leaf-images/rice_images/_BrownSpot created.\n",
      "Validation set of /kaggle/input/rice-leaf-images/rice_images/_BrownSpot created.\n",
      "Training set of /kaggle/input/rice-leaf-images/rice_images/_Healthy created.\n",
      "Validation set of /kaggle/input/rice-leaf-images/rice_images/_Healthy created.\n",
      "Training set of /kaggle/input/rice-leaf-images/rice_images/_Hispa created.\n",
      "Validation set of /kaggle/input/rice-leaf-images/rice_images/_Hispa created.\n",
      "Training set of /kaggle/input/rice-leaf-images/rice_images/_LeafBlast created.\n",
      "Validation set of /kaggle/input/rice-leaf-images/rice_images/_LeafBlast created.\n"
     ]
    }
   ],
   "source": [
    "def split_and_resize(source, destination_train, destination_validation, split_size, img_size):\n",
    "    files = []\n",
    "    for filename in os.listdir(source):\n",
    "        file = source + '/' + filename\n",
    "        if os.path.getsize(file) > 0:\n",
    "            files.append(filename)\n",
    "        else:\n",
    "            print(filename + \" is zero length, so ignoring.\")\n",
    "\n",
    "    training_length = int(len(files) * split_size)\n",
    "    validation_length = int(len(files) - training_length)\n",
    "    shuffled_set = random.sample(files, len(files))\n",
    "    training_set = shuffled_set[0:training_length]\n",
    "    validation_set = shuffled_set[:validation_length]\n",
    "\n",
    "    for filename in training_set:\n",
    "        this_file = source + '/' + filename\n",
    "        destination = destination_train + '/' + filename\n",
    "        img = Image.open(this_file)\n",
    "        img = img.resize((img_size, img_size))\n",
    "        img.save(destination)\n",
    "    print(\"Training set of \" + source + \" created.\")\n",
    "\n",
    "    for filename in validation_set:\n",
    "        this_file = source + '/' + filename\n",
    "        destination = destination_validation + '/' + filename\n",
    "        img = Image.open(this_file)\n",
    "        img = img.resize((img_size, img_size))\n",
    "        img.save(destination)\n",
    "    print(\"Validation set of \" + source + \" created.\")\n",
    "\n",
    "\n",
    "split_size = .9\n",
    "img_size = 224\n",
    "\n",
    "split_and_resize(brownspot, brownspot_train, brownspot_validation, split_size, img_size)\n",
    "split_and_resize(healthy, healthy_train, healthy_validation, split_size, img_size)\n",
    "split_and_resize(hispa, hispa_train, hispa_validation, split_size, img_size)\n",
    "split_and_resize(leafblast, leafblast_train, leafblast_validation, split_size, img_size)"
   ]
  },
  {
   "cell_type": "code",
   "execution_count": 5,
   "id": "a3e81426",
   "metadata": {
    "execution": {
     "iopub.execute_input": "2023-06-05T03:29:44.167500Z",
     "iopub.status.busy": "2023-06-05T03:29:44.167219Z",
     "iopub.status.idle": "2023-06-05T03:29:44.197432Z",
     "shell.execute_reply": "2023-06-05T03:29:44.196465Z"
    },
    "papermill": {
     "duration": 0.038862,
     "end_time": "2023-06-05T03:29:44.200000",
     "exception": false,
     "start_time": "2023-06-05T03:29:44.161138",
     "status": "completed"
    },
    "tags": []
   },
   "outputs": [
    {
     "data": {
      "text/html": [
       "<div>\n",
       "<style scoped>\n",
       "    .dataframe tbody tr th:only-of-type {\n",
       "        vertical-align: middle;\n",
       "    }\n",
       "\n",
       "    .dataframe tbody tr th {\n",
       "        vertical-align: top;\n",
       "    }\n",
       "\n",
       "    .dataframe thead th {\n",
       "        text-align: right;\n",
       "    }\n",
       "</style>\n",
       "<table border=\"1\" class=\"dataframe\">\n",
       "  <thead>\n",
       "    <tr style=\"text-align: right;\">\n",
       "      <th></th>\n",
       "      <th>Train</th>\n",
       "      <th>Validation</th>\n",
       "    </tr>\n",
       "  </thead>\n",
       "  <tbody>\n",
       "    <tr>\n",
       "      <th>BrownSpot</th>\n",
       "      <td>470</td>\n",
       "      <td>53</td>\n",
       "    </tr>\n",
       "    <tr>\n",
       "      <th>Healthy</th>\n",
       "      <td>1339</td>\n",
       "      <td>149</td>\n",
       "    </tr>\n",
       "    <tr>\n",
       "      <th>Hispa</th>\n",
       "      <td>508</td>\n",
       "      <td>57</td>\n",
       "    </tr>\n",
       "    <tr>\n",
       "      <th>LeafBlast</th>\n",
       "      <td>701</td>\n",
       "      <td>78</td>\n",
       "    </tr>\n",
       "  </tbody>\n",
       "</table>\n",
       "</div>"
      ],
      "text/plain": [
       "           Train  Validation\n",
       "BrownSpot    470          53\n",
       "Healthy     1339         149\n",
       "Hispa        508          57\n",
       "LeafBlast    701          78"
      ]
     },
     "execution_count": 5,
     "metadata": {},
     "output_type": "execute_result"
    }
   ],
   "source": [
    "import pandas as pd\n",
    "\n",
    "df = pd.DataFrame(columns=['Train', 'Validation'])\n",
    "df['Train'] = [len(os.listdir(brownspot_train)), len(os.listdir(healthy_train)), len(os.listdir(hispa_train)), len(os.listdir(leafblast_train))]\n",
    "df['Validation'] = [len(os.listdir(brownspot_validation)), len(os.listdir(healthy_validation)), len(os.listdir(hispa_validation)), len(os.listdir(leafblast_validation))]\n",
    "df.index = ['BrownSpot', 'Healthy', 'Hispa', 'LeafBlast']\n",
    "df"
   ]
  },
  {
   "cell_type": "code",
   "execution_count": 6,
   "id": "735ba9bd",
   "metadata": {
    "execution": {
     "iopub.execute_input": "2023-06-05T03:29:44.212265Z",
     "iopub.status.busy": "2023-06-05T03:29:44.212002Z",
     "iopub.status.idle": "2023-06-05T03:29:53.586357Z",
     "shell.execute_reply": "2023-06-05T03:29:53.585404Z"
    },
    "papermill": {
     "duration": 9.382823,
     "end_time": "2023-06-05T03:29:53.588629",
     "exception": false,
     "start_time": "2023-06-05T03:29:44.205806",
     "status": "completed"
    },
    "tags": []
   },
   "outputs": [
    {
     "name": "stderr",
     "output_type": "stream",
     "text": [
      "/opt/conda/lib/python3.10/site-packages/tensorflow_io/python/ops/__init__.py:98: UserWarning: unable to load libtensorflow_io_plugins.so: unable to open file: libtensorflow_io_plugins.so, from paths: ['/opt/conda/lib/python3.10/site-packages/tensorflow_io/python/ops/libtensorflow_io_plugins.so']\n",
      "caused by: ['/opt/conda/lib/python3.10/site-packages/tensorflow_io/python/ops/libtensorflow_io_plugins.so: undefined symbol: _ZN3tsl6StatusC1EN10tensorflow5error4CodeESt17basic_string_viewIcSt11char_traitsIcEENS_14SourceLocationE']\n",
      "  warnings.warn(f\"unable to load libtensorflow_io_plugins.so: {e}\")\n",
      "/opt/conda/lib/python3.10/site-packages/tensorflow_io/python/ops/__init__.py:104: UserWarning: file system plugins are not loaded: unable to open file: libtensorflow_io.so, from paths: ['/opt/conda/lib/python3.10/site-packages/tensorflow_io/python/ops/libtensorflow_io.so']\n",
      "caused by: ['/opt/conda/lib/python3.10/site-packages/tensorflow_io/python/ops/libtensorflow_io.so: undefined symbol: _ZTVN10tensorflow13GcsFileSystemE']\n",
      "  warnings.warn(f\"file system plugins are not loaded: {e}\")\n"
     ]
    },
    {
     "name": "stdout",
     "output_type": "stream",
     "text": [
      "Found 3018 images belonging to 4 classes.\n",
      "Found 337 images belonging to 4 classes.\n"
     ]
    }
   ],
   "source": [
    "import tensorflow as tf\n",
    "from tensorflow.keras.preprocessing.image import ImageDataGenerator\n",
    "\n",
    "train_datagen = ImageDataGenerator(rescale=1.0/255,\n",
    "                                      rotation_range=40,\n",
    "                                        width_shift_range=0.2,\n",
    "                                        height_shift_range=0.2,\n",
    "                                        shear_range=0.2,\n",
    "                                        zoom_range=0.2,\n",
    "                                        horizontal_flip=True,\n",
    "                                        vertical_flip=True,\n",
    "                                        fill_mode='nearest')\n",
    "\n",
    "validation_datagen = ImageDataGenerator(rescale=1.0/255)\n",
    "\n",
    "train_generator = train_datagen.flow_from_directory(train,\n",
    "                                                    batch_size=10,\n",
    "                                                    class_mode='categorical',\n",
    "                                                    target_size=(img_size, img_size))\n",
    "\n",
    "validation_generator = validation_datagen.flow_from_directory(validation,\n",
    "                                                                batch_size=10,  \n",
    "                                                                class_mode='categorical',\n",
    "                                                                target_size=(img_size, img_size))"
   ]
  },
  {
   "cell_type": "code",
   "execution_count": 7,
   "id": "cdf86d40",
   "metadata": {
    "execution": {
     "iopub.execute_input": "2023-06-05T03:29:53.602317Z",
     "iopub.status.busy": "2023-06-05T03:29:53.601132Z",
     "iopub.status.idle": "2023-06-05T03:30:04.145215Z",
     "shell.execute_reply": "2023-06-05T03:30:04.144288Z"
    },
    "papermill": {
     "duration": 10.55303,
     "end_time": "2023-06-05T03:30:04.147655",
     "exception": false,
     "start_time": "2023-06-05T03:29:53.594625",
     "status": "completed"
    },
    "tags": []
   },
   "outputs": [],
   "source": [
    "import tensorflow_hub as hub\n",
    "\n",
    "pre_trained_model = hub.KerasLayer(\"https://tfhub.dev/google/imagenet/efficientnet_v2_imagenet21k_ft1k_b0/feature_vector/2\", trainable=True)\n",
    "\n",
    "model = tf.keras.Sequential([\n",
    "    pre_trained_model,\n",
    "    tf.keras.layers.Dense(512, activation='relu'),\n",
    "    tf.keras.layers.Dense(64, activation='relu'),\n",
    "    tf.keras.layers.Dense(4, activation='softmax')\n",
    "\n",
    "])"
   ]
  },
  {
   "cell_type": "code",
   "execution_count": 8,
   "id": "a82b60ee",
   "metadata": {
    "execution": {
     "iopub.execute_input": "2023-06-05T03:30:04.161851Z",
     "iopub.status.busy": "2023-06-05T03:30:04.160939Z",
     "iopub.status.idle": "2023-06-05T03:30:05.129574Z",
     "shell.execute_reply": "2023-06-05T03:30:05.128214Z"
    },
    "papermill": {
     "duration": 0.978066,
     "end_time": "2023-06-05T03:30:05.131886",
     "exception": false,
     "start_time": "2023-06-05T03:30:04.153820",
     "status": "completed"
    },
    "tags": []
   },
   "outputs": [
    {
     "name": "stdout",
     "output_type": "stream",
     "text": [
      "Model: \"sequential\"\n",
      "_________________________________________________________________\n",
      " Layer (type)                Output Shape              Param #   \n",
      "=================================================================\n",
      " keras_layer (KerasLayer)    (None, 1280)              5919312   \n",
      "                                                                 \n",
      " dense (Dense)               (None, 512)               655872    \n",
      "                                                                 \n",
      " dense_1 (Dense)             (None, 64)                32832     \n",
      "                                                                 \n",
      " dense_2 (Dense)             (None, 4)                 260       \n",
      "                                                                 \n",
      "=================================================================\n",
      "Total params: 6,608,276\n",
      "Trainable params: 6,547,668\n",
      "Non-trainable params: 60,608\n",
      "_________________________________________________________________\n"
     ]
    }
   ],
   "source": [
    "model.build([None, img_size, img_size, 3])\n",
    "\n",
    "model.summary()"
   ]
  },
  {
   "cell_type": "code",
   "execution_count": 9,
   "id": "9a0637c4",
   "metadata": {
    "execution": {
     "iopub.execute_input": "2023-06-05T03:30:05.148228Z",
     "iopub.status.busy": "2023-06-05T03:30:05.147921Z",
     "iopub.status.idle": "2023-06-05T03:30:05.154751Z",
     "shell.execute_reply": "2023-06-05T03:30:05.153862Z"
    },
    "papermill": {
     "duration": 0.017323,
     "end_time": "2023-06-05T03:30:05.156892",
     "exception": false,
     "start_time": "2023-06-05T03:30:05.139569",
     "status": "completed"
    },
    "tags": []
   },
   "outputs": [],
   "source": [
    "from tensorflow.keras.callbacks import ModelCheckpoint\n",
    "\n",
    "checkpoint = ModelCheckpoint('rice_disease.h5',\n",
    "                                monitor='val_acc',\n",
    "                                mode='max',\n",
    "                                save_best_only=True,\n",
    "                                verbose=1)"
   ]
  },
  {
   "cell_type": "code",
   "execution_count": 10,
   "id": "169b69cf",
   "metadata": {
    "execution": {
     "iopub.execute_input": "2023-06-05T03:30:05.172208Z",
     "iopub.status.busy": "2023-06-05T03:30:05.171930Z",
     "iopub.status.idle": "2023-06-05T03:30:05.189290Z",
     "shell.execute_reply": "2023-06-05T03:30:05.188475Z"
    },
    "papermill": {
     "duration": 0.027408,
     "end_time": "2023-06-05T03:30:05.191272",
     "exception": false,
     "start_time": "2023-06-05T03:30:05.163864",
     "status": "completed"
    },
    "tags": []
   },
   "outputs": [],
   "source": [
    "model.compile(optimizer='adam', loss='categorical_crossentropy', metrics=['acc'])"
   ]
  },
  {
   "cell_type": "code",
   "execution_count": 11,
   "id": "c8c86228",
   "metadata": {
    "execution": {
     "iopub.execute_input": "2023-06-05T03:30:05.206443Z",
     "iopub.status.busy": "2023-06-05T03:30:05.206168Z",
     "iopub.status.idle": "2023-06-05T04:19:49.073886Z",
     "shell.execute_reply": "2023-06-05T04:19:49.072786Z"
    },
    "papermill": {
     "duration": 2983.878094,
     "end_time": "2023-06-05T04:19:49.076327",
     "exception": false,
     "start_time": "2023-06-05T03:30:05.198233",
     "status": "completed"
    },
    "tags": []
   },
   "outputs": [
    {
     "name": "stdout",
     "output_type": "stream",
     "text": [
      "Epoch 1/50\n",
      "302/302 [==============================] - ETA: 0s - loss: 1.1458 - acc: 0.5315\n",
      "Epoch 1: val_acc improved from -inf to 0.56380, saving model to rice_disease.h5\n",
      "302/302 [==============================] - 113s 173ms/step - loss: 1.1458 - acc: 0.5315 - val_loss: 0.9897 - val_acc: 0.5638\n",
      "Epoch 2/50\n",
      "302/302 [==============================] - ETA: 0s - loss: 0.9807 - acc: 0.6150\n",
      "Epoch 2: val_acc improved from 0.56380 to 0.61128, saving model to rice_disease.h5\n",
      "302/302 [==============================] - 49s 163ms/step - loss: 0.9807 - acc: 0.6150 - val_loss: 0.9233 - val_acc: 0.6113\n",
      "Epoch 3/50\n",
      "302/302 [==============================] - ETA: 0s - loss: 0.9444 - acc: 0.6382\n",
      "Epoch 3: val_acc improved from 0.61128 to 0.72107, saving model to rice_disease.h5\n",
      "302/302 [==============================] - 50s 167ms/step - loss: 0.9444 - acc: 0.6382 - val_loss: 0.7661 - val_acc: 0.7211\n",
      "Epoch 4/50\n",
      "302/302 [==============================] - ETA: 0s - loss: 0.8908 - acc: 0.6484\n",
      "Epoch 4: val_acc improved from 0.72107 to 0.73294, saving model to rice_disease.h5\n",
      "302/302 [==============================] - 50s 164ms/step - loss: 0.8908 - acc: 0.6484 - val_loss: 0.7239 - val_acc: 0.7329\n",
      "Epoch 5/50\n",
      "302/302 [==============================] - ETA: 0s - loss: 0.8727 - acc: 0.6690\n",
      "Epoch 5: val_acc did not improve from 0.73294\n",
      "302/302 [==============================] - 49s 163ms/step - loss: 0.8727 - acc: 0.6690 - val_loss: 0.8229 - val_acc: 0.6588\n",
      "Epoch 6/50\n",
      "302/302 [==============================] - ETA: 0s - loss: 0.8376 - acc: 0.6750\n",
      "Epoch 6: val_acc did not improve from 0.73294\n",
      "302/302 [==============================] - 49s 161ms/step - loss: 0.8376 - acc: 0.6750 - val_loss: 0.7885 - val_acc: 0.7240\n",
      "Epoch 7/50\n",
      "302/302 [==============================] - ETA: 0s - loss: 0.8190 - acc: 0.6899\n",
      "Epoch 7: val_acc improved from 0.73294 to 0.76558, saving model to rice_disease.h5\n",
      "302/302 [==============================] - 50s 164ms/step - loss: 0.8190 - acc: 0.6899 - val_loss: 0.7452 - val_acc: 0.7656\n",
      "Epoch 8/50\n",
      "302/302 [==============================] - ETA: 0s - loss: 0.7912 - acc: 0.7054\n",
      "Epoch 8: val_acc did not improve from 0.76558\n",
      "302/302 [==============================] - 48s 159ms/step - loss: 0.7912 - acc: 0.7054 - val_loss: 0.7665 - val_acc: 0.7389\n",
      "Epoch 9/50\n",
      "302/302 [==============================] - ETA: 0s - loss: 0.7896 - acc: 0.7071\n",
      "Epoch 9: val_acc improved from 0.76558 to 0.79228, saving model to rice_disease.h5\n",
      "302/302 [==============================] - 49s 163ms/step - loss: 0.7896 - acc: 0.7071 - val_loss: 0.6329 - val_acc: 0.7923\n",
      "Epoch 10/50\n",
      "302/302 [==============================] - ETA: 0s - loss: 0.7437 - acc: 0.7233\n",
      "Epoch 10: val_acc did not improve from 0.79228\n",
      "302/302 [==============================] - 49s 161ms/step - loss: 0.7437 - acc: 0.7233 - val_loss: 0.6755 - val_acc: 0.7537\n",
      "Epoch 11/50\n",
      "302/302 [==============================] - ETA: 0s - loss: 0.7504 - acc: 0.7094\n",
      "Epoch 11: val_acc did not improve from 0.79228\n",
      "302/302 [==============================] - 48s 158ms/step - loss: 0.7504 - acc: 0.7094 - val_loss: 0.6058 - val_acc: 0.7656\n",
      "Epoch 12/50\n",
      "302/302 [==============================] - ETA: 0s - loss: 0.7418 - acc: 0.7233\n",
      "Epoch 12: val_acc did not improve from 0.79228\n",
      "302/302 [==============================] - 49s 162ms/step - loss: 0.7418 - acc: 0.7233 - val_loss: 0.6082 - val_acc: 0.7834\n",
      "Epoch 13/50\n",
      "302/302 [==============================] - ETA: 0s - loss: 0.7152 - acc: 0.7362\n",
      "Epoch 13: val_acc did not improve from 0.79228\n",
      "302/302 [==============================] - 48s 159ms/step - loss: 0.7152 - acc: 0.7362 - val_loss: 0.6228 - val_acc: 0.7507\n",
      "Epoch 14/50\n",
      "302/302 [==============================] - ETA: 0s - loss: 0.7362 - acc: 0.7247\n",
      "Epoch 14: val_acc did not improve from 0.79228\n",
      "302/302 [==============================] - 48s 160ms/step - loss: 0.7362 - acc: 0.7247 - val_loss: 0.6256 - val_acc: 0.7596\n",
      "Epoch 15/50\n",
      "302/302 [==============================] - ETA: 0s - loss: 0.7134 - acc: 0.7379\n",
      "Epoch 15: val_acc did not improve from 0.79228\n",
      "302/302 [==============================] - 48s 159ms/step - loss: 0.7134 - acc: 0.7379 - val_loss: 0.6232 - val_acc: 0.7745\n",
      "Epoch 16/50\n",
      "302/302 [==============================] - ETA: 0s - loss: 0.6988 - acc: 0.7389\n",
      "Epoch 16: val_acc did not improve from 0.79228\n",
      "302/302 [==============================] - 49s 161ms/step - loss: 0.6988 - acc: 0.7389 - val_loss: 0.6117 - val_acc: 0.7774\n",
      "Epoch 17/50\n",
      "302/302 [==============================] - ETA: 0s - loss: 0.7099 - acc: 0.7429\n",
      "Epoch 17: val_acc improved from 0.79228 to 0.80119, saving model to rice_disease.h5\n",
      "302/302 [==============================] - 49s 161ms/step - loss: 0.7099 - acc: 0.7429 - val_loss: 0.5600 - val_acc: 0.8012\n",
      "Epoch 18/50\n",
      "302/302 [==============================] - ETA: 0s - loss: 0.6749 - acc: 0.7505\n",
      "Epoch 18: val_acc did not improve from 0.80119\n",
      "302/302 [==============================] - 49s 161ms/step - loss: 0.6749 - acc: 0.7505 - val_loss: 0.6063 - val_acc: 0.7982\n",
      "Epoch 19/50\n",
      "302/302 [==============================] - ETA: 0s - loss: 0.6735 - acc: 0.7508\n",
      "Epoch 19: val_acc did not improve from 0.80119\n",
      "302/302 [==============================] - 48s 158ms/step - loss: 0.6735 - acc: 0.7508 - val_loss: 0.6523 - val_acc: 0.7834\n",
      "Epoch 20/50\n",
      "302/302 [==============================] - ETA: 0s - loss: 0.6793 - acc: 0.7525\n",
      "Epoch 20: val_acc did not improve from 0.80119\n",
      "302/302 [==============================] - 48s 159ms/step - loss: 0.6793 - acc: 0.7525 - val_loss: 0.5544 - val_acc: 0.7982\n",
      "Epoch 21/50\n",
      "302/302 [==============================] - ETA: 0s - loss: 0.6618 - acc: 0.7568\n",
      "Epoch 21: val_acc improved from 0.80119 to 0.80415, saving model to rice_disease.h5\n",
      "302/302 [==============================] - 50s 165ms/step - loss: 0.6618 - acc: 0.7568 - val_loss: 0.5438 - val_acc: 0.8042\n",
      "Epoch 22/50\n",
      "302/302 [==============================] - ETA: 0s - loss: 0.6621 - acc: 0.7638\n",
      "Epoch 22: val_acc did not improve from 0.80415\n",
      "302/302 [==============================] - 49s 161ms/step - loss: 0.6621 - acc: 0.7638 - val_loss: 0.5513 - val_acc: 0.7982\n",
      "Epoch 23/50\n",
      "302/302 [==============================] - ETA: 0s - loss: 0.6569 - acc: 0.7594\n",
      "Epoch 23: val_acc did not improve from 0.80415\n",
      "302/302 [==============================] - 50s 164ms/step - loss: 0.6569 - acc: 0.7594 - val_loss: 0.5310 - val_acc: 0.7953\n",
      "Epoch 24/50\n",
      "302/302 [==============================] - ETA: 0s - loss: 0.6367 - acc: 0.7704\n",
      "Epoch 24: val_acc did not improve from 0.80415\n",
      "302/302 [==============================] - 49s 161ms/step - loss: 0.6367 - acc: 0.7704 - val_loss: 0.5420 - val_acc: 0.7982\n",
      "Epoch 25/50\n",
      "302/302 [==============================] - ETA: 0s - loss: 0.6349 - acc: 0.7661\n",
      "Epoch 25: val_acc improved from 0.80415 to 0.80712, saving model to rice_disease.h5\n",
      "302/302 [==============================] - 50s 166ms/step - loss: 0.6349 - acc: 0.7661 - val_loss: 0.5635 - val_acc: 0.8071\n",
      "Epoch 26/50\n",
      "302/302 [==============================] - ETA: 0s - loss: 0.6113 - acc: 0.7873\n",
      "Epoch 26: val_acc improved from 0.80712 to 0.84273, saving model to rice_disease.h5\n",
      "302/302 [==============================] - 50s 166ms/step - loss: 0.6113 - acc: 0.7873 - val_loss: 0.4685 - val_acc: 0.8427\n",
      "Epoch 27/50\n",
      "302/302 [==============================] - ETA: 0s - loss: 0.6247 - acc: 0.7793\n",
      "Epoch 27: val_acc did not improve from 0.84273\n",
      "302/302 [==============================] - 49s 160ms/step - loss: 0.6247 - acc: 0.7793 - val_loss: 0.4979 - val_acc: 0.8220\n",
      "Epoch 28/50\n",
      "302/302 [==============================] - ETA: 0s - loss: 0.6187 - acc: 0.7740\n",
      "Epoch 28: val_acc did not improve from 0.84273\n",
      "302/302 [==============================] - 49s 162ms/step - loss: 0.6187 - acc: 0.7740 - val_loss: 0.5488 - val_acc: 0.8042\n",
      "Epoch 29/50\n",
      "302/302 [==============================] - ETA: 0s - loss: 0.6284 - acc: 0.7694\n",
      "Epoch 29: val_acc did not improve from 0.84273\n",
      "302/302 [==============================] - 49s 161ms/step - loss: 0.6284 - acc: 0.7694 - val_loss: 0.6682 - val_acc: 0.7626\n",
      "Epoch 30/50\n",
      "302/302 [==============================] - ETA: 0s - loss: 0.6067 - acc: 0.7813\n",
      "Epoch 30: val_acc did not improve from 0.84273\n",
      "302/302 [==============================] - 49s 163ms/step - loss: 0.6067 - acc: 0.7813 - val_loss: 0.5017 - val_acc: 0.8160\n",
      "Epoch 31/50\n",
      "302/302 [==============================] - ETA: 0s - loss: 0.5964 - acc: 0.7883\n",
      "Epoch 31: val_acc did not improve from 0.84273\n",
      "302/302 [==============================] - 48s 160ms/step - loss: 0.5964 - acc: 0.7883 - val_loss: 0.5199 - val_acc: 0.8160\n",
      "Epoch 32/50\n",
      "302/302 [==============================] - ETA: 0s - loss: 0.6020 - acc: 0.7783\n",
      "Epoch 32: val_acc did not improve from 0.84273\n",
      "302/302 [==============================] - 49s 161ms/step - loss: 0.6020 - acc: 0.7783 - val_loss: 0.5155 - val_acc: 0.8101\n",
      "Epoch 33/50\n",
      "302/302 [==============================] - ETA: 0s - loss: 0.5935 - acc: 0.7899\n",
      "Epoch 33: val_acc did not improve from 0.84273\n",
      "302/302 [==============================] - 48s 160ms/step - loss: 0.5935 - acc: 0.7899 - val_loss: 0.4931 - val_acc: 0.8338\n",
      "Epoch 34/50\n",
      "302/302 [==============================] - ETA: 0s - loss: 0.5944 - acc: 0.7830\n",
      "Epoch 34: val_acc did not improve from 0.84273\n",
      "302/302 [==============================] - 50s 166ms/step - loss: 0.5944 - acc: 0.7830 - val_loss: 0.5414 - val_acc: 0.7953\n",
      "Epoch 35/50\n",
      "302/302 [==============================] - ETA: 0s - loss: 0.5845 - acc: 0.7909\n",
      "Epoch 35: val_acc did not improve from 0.84273\n",
      "302/302 [==============================] - 50s 164ms/step - loss: 0.5845 - acc: 0.7909 - val_loss: 0.5223 - val_acc: 0.8101\n",
      "Epoch 36/50\n",
      "302/302 [==============================] - ETA: 0s - loss: 0.6155 - acc: 0.7753\n",
      "Epoch 36: val_acc did not improve from 0.84273\n",
      "302/302 [==============================] - 50s 165ms/step - loss: 0.6155 - acc: 0.7753 - val_loss: 0.5125 - val_acc: 0.8071\n",
      "Epoch 37/50\n",
      "302/302 [==============================] - ETA: 0s - loss: 0.5686 - acc: 0.7962\n",
      "Epoch 37: val_acc did not improve from 0.84273\n",
      "302/302 [==============================] - 50s 164ms/step - loss: 0.5686 - acc: 0.7962 - val_loss: 0.4909 - val_acc: 0.8398\n",
      "Epoch 38/50\n",
      "302/302 [==============================] - ETA: 0s - loss: 0.5584 - acc: 0.8015\n",
      "Epoch 38: val_acc did not improve from 0.84273\n",
      "302/302 [==============================] - 48s 160ms/step - loss: 0.5584 - acc: 0.8015 - val_loss: 0.4656 - val_acc: 0.8279\n",
      "Epoch 39/50\n",
      "302/302 [==============================] - ETA: 0s - loss: 0.5748 - acc: 0.7903\n",
      "Epoch 39: val_acc did not improve from 0.84273\n",
      "302/302 [==============================] - 50s 166ms/step - loss: 0.5748 - acc: 0.7903 - val_loss: 0.4893 - val_acc: 0.8279\n",
      "Epoch 40/50\n",
      "302/302 [==============================] - ETA: 0s - loss: 0.5686 - acc: 0.7959\n",
      "Epoch 40: val_acc did not improve from 0.84273\n",
      "302/302 [==============================] - 49s 161ms/step - loss: 0.5686 - acc: 0.7959 - val_loss: 0.4829 - val_acc: 0.8012\n",
      "Epoch 41/50\n",
      "302/302 [==============================] - ETA: 0s - loss: 0.5690 - acc: 0.7929\n",
      "Epoch 41: val_acc did not improve from 0.84273\n",
      "302/302 [==============================] - 49s 163ms/step - loss: 0.5690 - acc: 0.7929 - val_loss: 0.4311 - val_acc: 0.8398\n",
      "Epoch 42/50\n",
      "302/302 [==============================] - ETA: 0s - loss: 0.5617 - acc: 0.7989\n",
      "Epoch 42: val_acc did not improve from 0.84273\n",
      "302/302 [==============================] - 50s 164ms/step - loss: 0.5617 - acc: 0.7989 - val_loss: 0.4315 - val_acc: 0.8398\n",
      "Epoch 43/50\n",
      "302/302 [==============================] - ETA: 0s - loss: 0.5543 - acc: 0.8058\n",
      "Epoch 43: val_acc did not improve from 0.84273\n",
      "302/302 [==============================] - 49s 161ms/step - loss: 0.5543 - acc: 0.8058 - val_loss: 0.4327 - val_acc: 0.8309\n",
      "Epoch 44/50\n",
      "302/302 [==============================] - ETA: 0s - loss: 0.5506 - acc: 0.8068\n",
      "Epoch 44: val_acc did not improve from 0.84273\n",
      "302/302 [==============================] - 50s 166ms/step - loss: 0.5506 - acc: 0.8068 - val_loss: 0.4685 - val_acc: 0.8249\n",
      "Epoch 45/50\n",
      "302/302 [==============================] - ETA: 0s - loss: 0.5482 - acc: 0.8072\n",
      "Epoch 45: val_acc improved from 0.84273 to 0.85757, saving model to rice_disease.h5\n",
      "302/302 [==============================] - 50s 164ms/step - loss: 0.5482 - acc: 0.8072 - val_loss: 0.4323 - val_acc: 0.8576\n",
      "Epoch 46/50\n",
      "302/302 [==============================] - ETA: 0s - loss: 0.5446 - acc: 0.8022\n",
      "Epoch 46: val_acc did not improve from 0.85757\n",
      "302/302 [==============================] - 51s 169ms/step - loss: 0.5446 - acc: 0.8022 - val_loss: 0.4718 - val_acc: 0.8338\n",
      "Epoch 47/50\n",
      "302/302 [==============================] - ETA: 0s - loss: 0.5487 - acc: 0.8042\n",
      "Epoch 47: val_acc did not improve from 0.85757\n",
      "302/302 [==============================] - 50s 165ms/step - loss: 0.5487 - acc: 0.8042 - val_loss: 0.4782 - val_acc: 0.8309\n",
      "Epoch 48/50\n",
      "302/302 [==============================] - ETA: 0s - loss: 0.5406 - acc: 0.8032\n",
      "Epoch 48: val_acc did not improve from 0.85757\n",
      "302/302 [==============================] - 49s 163ms/step - loss: 0.5406 - acc: 0.8032 - val_loss: 0.4362 - val_acc: 0.8427\n",
      "Epoch 49/50\n",
      "302/302 [==============================] - ETA: 0s - loss: 0.5531 - acc: 0.8038\n",
      "Epoch 49: val_acc did not improve from 0.85757\n",
      "302/302 [==============================] - 50s 165ms/step - loss: 0.5531 - acc: 0.8038 - val_loss: 0.4739 - val_acc: 0.8220\n",
      "Epoch 50/50\n",
      "302/302 [==============================] - ETA: 0s - loss: 0.5272 - acc: 0.8131\n",
      "Epoch 50: val_acc did not improve from 0.85757\n",
      "302/302 [==============================] - 50s 166ms/step - loss: 0.5272 - acc: 0.8131 - val_loss: 0.4707 - val_acc: 0.8220\n"
     ]
    }
   ],
   "source": [
    "history = model.fit(train_generator,\n",
    "                    epochs=50,\n",
    "                    verbose=1,\n",
    "                    callbacks=[checkpoint],\n",
    "                    validation_data=validation_generator)\n"
   ]
  },
  {
   "cell_type": "code",
   "execution_count": 12,
   "id": "2afd0f42",
   "metadata": {
    "execution": {
     "iopub.execute_input": "2023-06-05T04:19:51.493909Z",
     "iopub.status.busy": "2023-06-05T04:19:51.493517Z",
     "iopub.status.idle": "2023-06-05T04:19:51.984506Z",
     "shell.execute_reply": "2023-06-05T04:19:51.983468Z"
    },
    "papermill": {
     "duration": 1.738912,
     "end_time": "2023-06-05T04:19:51.986797",
     "exception": false,
     "start_time": "2023-06-05T04:19:50.247885",
     "status": "completed"
    },
    "tags": []
   },
   "outputs": [
    {
     "data": {
      "image/png": "[encoded data removed]",
      "text/plain": [
       "<Figure size 1000x1000 with 2 Axes>"
      ]
     },
     "metadata": {},
     "output_type": "display_data"
    }
   ],
   "source": [
    "import matplotlib.pyplot as plt\n",
    "acc = history.history['acc']\n",
    "val_acc = history.history['val_acc']\n",
    "\n",
    "loss = history.history['loss']\n",
    "val_loss = history.history['val_loss']\n",
    "\n",
    "plt.figure(figsize=(10, 10))\n",
    "\n",
    "plt.subplot(2, 2, 1)\n",
    "plt.plot(acc, label='Training Accuracy')\n",
    "plt.plot(val_acc, label='Validation Accuracy')\n",
    "plt.legend(loc='lower right')\n",
    "plt.ylabel('Accuracy')\n",
    "plt.ylim([min(plt.ylim()),1])\n",
    "plt.title('Training and Validation Accuracy')\n",
    "\n",
    "plt.subplot(2, 2, 2)\n",
    "plt.plot(loss, label='Training Loss')\n",
    "plt.plot(val_loss, label='Validation Loss')\n",
    "plt.legend(loc='upper right')\n",
    "plt.ylabel('Cross Entropy')\n",
    "plt.ylim([0,1.0])\n",
    "plt.title('Training and Validation Loss')\n",
    "plt.xlabel('epoch')\n",
    "plt.show()\n"
   ]
  },
  {
   "cell_type": "code",
   "execution_count": 13,
   "id": "505e45d5",
   "metadata": {
    "execution": {
     "iopub.execute_input": "2023-06-05T04:19:54.316209Z",
     "iopub.status.busy": "2023-06-05T04:19:54.315856Z",
     "iopub.status.idle": "2023-06-05T04:19:57.792342Z",
     "shell.execute_reply": "2023-06-05T04:19:57.791443Z"
    },
    "papermill": {
     "duration": 4.672172,
     "end_time": "2023-06-05T04:19:57.794419",
     "exception": false,
     "start_time": "2023-06-05T04:19:53.122247",
     "status": "completed"
    },
    "tags": []
   },
   "outputs": [
    {
     "name": "stdout",
     "output_type": "stream",
     "text": [
      "Found 337 images belonging to 4 classes.\n",
      "34/34 [==============================] - 2s 23ms/step\n"
     ]
    },
    {
     "data": {
      "image/png": "[encoded data removed]",
      "text/plain": [
       "<Figure size 640x480 with 2 Axes>"
      ]
     },
     "metadata": {},
     "output_type": "display_data"
    }
   ],
   "source": [
    "from sklearn.metrics import classification_report, confusion_matrix\n",
    "import numpy as np\n",
    "import seaborn as sns\n",
    "\n",
    "test_generator = validation_datagen.flow_from_directory(validation,\n",
    "                                                        batch_size=10,          \n",
    "                                                        class_mode='categorical',\n",
    "                                                        target_size=(img_size, img_size),\n",
    "                                                        shuffle=False)\n",
    "\n",
    "test_generator.reset()\n",
    "\n",
    "Y_pred = model.predict(test_generator)\n",
    "y_pred = np.argmax(Y_pred, axis=1)\n",
    "cm = confusion_matrix(test_generator.classes, y_pred)\n",
    "sns.heatmap(cm, annot=True, fmt='d', cmap='Blues')\n",
    "plt.xlabel('Predicted Label')\n",
    "plt.ylabel('True Label')\n",
    "plt.show()"
   ]
  },
  {
   "cell_type": "code",
   "execution_count": 14,
   "id": "92867776",
   "metadata": {
    "execution": {
     "iopub.execute_input": "2023-06-05T04:20:00.151191Z",
     "iopub.status.busy": "2023-06-05T04:20:00.150488Z",
     "iopub.status.idle": "2023-06-05T04:20:00.166824Z",
     "shell.execute_reply": "2023-06-05T04:20:00.165560Z"
    },
    "papermill": {
     "duration": 1.212643,
     "end_time": "2023-06-05T04:20:00.169030",
     "exception": false,
     "start_time": "2023-06-05T04:19:58.956387",
     "status": "completed"
    },
    "tags": []
   },
   "outputs": [
    {
     "name": "stdout",
     "output_type": "stream",
     "text": [
      "Classification Report\n",
      "              precision    recall  f1-score   support\n",
      "\n",
      "   BrownSpot       0.82      0.85      0.83        53\n",
      "     Healthy       0.81      0.95      0.87       149\n",
      "       Hispa       0.85      0.49      0.62        57\n",
      "   LeafBlast       0.85      0.79      0.82        78\n",
      "\n",
      "    accuracy                           0.82       337\n",
      "   macro avg       0.83      0.77      0.79       337\n",
      "weighted avg       0.83      0.82      0.81       337\n",
      "\n"
     ]
    }
   ],
   "source": [
    "print('Classification Report')\n",
    "target_names = ['BrownSpot', 'Healthy', 'Hispa', 'LeafBlast']\n",
    "print(classification_report(test_generator.classes, y_pred, target_names=target_names))"
   ]
  },
  {
   "cell_type": "code",
   "execution_count": 15,
   "id": "641b5ca9",
   "metadata": {
    "execution": {
     "iopub.execute_input": "2023-06-05T04:20:02.545803Z",
     "iopub.status.busy": "2023-06-05T04:20:02.544586Z",
     "iopub.status.idle": "2023-06-05T04:20:03.268526Z",
     "shell.execute_reply": "2023-06-05T04:20:03.267573Z"
    },
    "papermill": {
     "duration": 1.872293,
     "end_time": "2023-06-05T04:20:03.270969",
     "exception": false,
     "start_time": "2023-06-05T04:20:01.398676",
     "status": "completed"
    },
    "tags": []
   },
   "outputs": [],
   "source": [
    "model.save('rice_disease_1.h5')"
   ]
  },
  {
   "cell_type": "code",
   "execution_count": null,
   "id": "2778e19a",
   "metadata": {
    "papermill": {
     "duration": 1.144395,
     "end_time": "2023-06-05T04:20:05.616675",
     "exception": false,
     "start_time": "2023-06-05T04:20:04.472280",
     "status": "completed"
    },
    "tags": []
   },
   "outputs": [],
   "source": []
  }
 ],
 "metadata": {
  "kernelspec": {
   "display_name": "Python 3",
   "language": "python",
   "name": "python3"
  },
  "language_info": {
   "codemirror_mode": {
    "name": "ipython",
    "version": 3
   },
   "file_extension": ".py",
   "mimetype": "text/x-python",
   "name": "python",
   "nbconvert_exporter": "python",
   "pygments_lexer": "ipython3",
   "version": "3.10.10"
  },
  "papermill": {
   "default_parameters": {},
   "duration": 3057.259092,
   "end_time": "2023-06-05T04:20:09.969728",
   "environment_variables": {},
   "exception": null,
   "input_path": "__notebook__.ipynb",
   "output_path": "__notebook__.ipynb",
   "parameters": {},
   "start_time": "2023-06-05T03:29:12.710636",
   "version": "2.4.0"
  }
 },
 "nbformat": 4,
 "nbformat_minor": 5
}
